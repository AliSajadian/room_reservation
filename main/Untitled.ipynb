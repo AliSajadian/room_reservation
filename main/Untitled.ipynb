{
 "cells": [
  {
   "cell_type": "code",
   "execution_count": 148,
   "id": "f8aff0ab",
   "metadata": {},
   "outputs": [
    {
     "name": "stdout",
     "output_type": "stream",
     "text": [
      "room id 77 does not exist.\n"
     ]
    }
   ],
   "source": [
    "from datetime import datetime, timedelta\n",
    "from room_reservation.models import *\n",
    "\n",
    "def check_room_is_booked(_room_id, _date):\n",
    "    try:\n",
    "        room = Room.objects.filter(pk=_room_id)\n",
    "        if not len(room):\n",
    "            return 'room id %s does not exist.' % (_room_id)\n",
    "\n",
    "        bookings = Booking.objects.filter(rooms__pk=_room_id)\n",
    "        if not len(bookings):\n",
    "            return 'room no. %s is not booked at all.' % (room[0].room_no)\n",
    "\n",
    "        check_date = datetime.strptime(_date, '%Y-%m-%d').date()\n",
    "\n",
    "        for booking in bookings: \n",
    "            duration = booking.duration\n",
    "            arrival_date = booking.arrival_date\n",
    "            departure_date = arrival_date + timedelta(duration - 1)\n",
    "\n",
    "            if arrival_date <= check_date and check_date <= departure_date:\n",
    "                return 'room no.%s was reserved before in date %s.' % (room[0].room_no, check_date)\n",
    "\n",
    "        return 'room no.%s in date %s is not booked.' % (room[0].room_no, check_date)\n",
    "    except Exception as e:\n",
    "        return str(e)\n",
    "print(check_room_is_booked(77, '2023-03-09'))"
   ]
  },
  {
   "cell_type": "code",
   "execution_count": null,
   "id": "1679a3ce",
   "metadata": {},
   "outputs": [],
   "source": []
  },
  {
   "cell_type": "code",
   "execution_count": 121,
   "id": "1e444514",
   "metadata": {},
   "outputs": [
    {
     "name": "stdout",
     "output_type": "stream",
     "text": [
      "room_id: 3\n",
      "room_id: 7\n",
      "arrival_date: 2023-03-10\n",
      "duration: 3\n",
      "departure_date: 2023-03-12\n",
      "check_date: 2023-03-09\n",
      "check_date: 2023-03-10\n",
      "room no. 7 was reserved before in date \"2023-03-10\"\n"
     ]
    }
   ],
   "source": [
    "import pandas as pd\n",
    "from django.db.models import Q, F\n",
    "from datetime import datetime\n",
    "\n",
    "def check_room_is_booked():\n",
    "    try:\n",
    "        _rooms = Room.objects.filter(Q(pk=3) | Q(pk=7))\n",
    "        for room in _rooms:\n",
    "            room_id = room.id\n",
    "            print('room_id:', room_id)\n",
    "            _bookings = Booking.objects.filter(rooms__pk=room_id).values('arrival_date', 'duration')\n",
    "            if not len(_bookings):\n",
    "                continue\n",
    "\n",
    "            _duration = 2\n",
    "            _date = '2023-03-09'\n",
    "\n",
    "            start_date = datetime.strptime(_date, '%Y-%m-%d').date()\n",
    "            end_date = start_date + timedelta(_duration - 1)\n",
    "            date_range = pd.date_range(start_date, end_date)\n",
    "\n",
    "            for booking in _bookings:\n",
    "                arrival_date = booking['arrival_date']\n",
    "                duration = booking['duration']\n",
    "                departure_date = arrival_date + timedelta(duration - 1)\n",
    "                print('arrival_date:', arrival_date)\n",
    "                print('duration:', duration)\n",
    "                print('departure_date:', departure_date)   \n",
    "\n",
    "                for check_date in date_range:\n",
    "                    check_date = check_date.date()\n",
    "                    print('check_date:', check_date)\n",
    "\n",
    "                    if arrival_date <= check_date and check_date <= departure_date:\n",
    "                        print('room no. %s was reserved before in date \"%s\"' % (room.room_no, check_date))\n",
    "                        return                \n",
    "\n",
    "        print('-----ok') \n",
    "        return\n",
    "    except Exception as e:\n",
    "        print('error:', str(e))\n",
    "        return\n",
    "check_room_is_booked()"
   ]
  },
  {
   "cell_type": "code",
   "execution_count": null,
   "id": "44c830fe",
   "metadata": {},
   "outputs": [],
   "source": []
  }
 ],
 "metadata": {
  "kernelspec": {
   "display_name": "Django Shell-Plus",
   "language": "python",
   "name": "django_extensions"
  },
  "language_info": {
   "codemirror_mode": {
    "name": "ipython",
    "version": 3
   },
   "file_extension": ".py",
   "mimetype": "text/x-python",
   "name": "python",
   "nbconvert_exporter": "python",
   "pygments_lexer": "ipython3",
   "version": "3.8.10"
  }
 },
 "nbformat": 4,
 "nbformat_minor": 5
}
